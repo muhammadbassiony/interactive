{
 "cells": [
  {
   "cell_type": "code",
   "execution_count": 1,
   "metadata": {},
   "outputs": [],
   "source": [
    "%load_ext autoreload\n",
    "%autoreload 2\n",
    "\n",
    "import interactive_testing_functions\n",
    "\n",
    "TOPIC_MODEL_DIR='../../models/future_topic_all-20200106-222318'\n",
    "GENERATION_MODEL_DIR='../../models/conditional_all-20200106-235956'\n",
    "DICT_FILE=\"../../data/processed/wiki2016_gpt2/tensors_all_min100/dict_idx_compact\"\n",
    "\n",
    "parser = interactive_testing_functions.create_args_parser()\n",
    "\n",
    "args = parser.parse_args((\"--checkpoint_topics \" + TOPIC_MODEL_DIR +\n",
    "                         \" --checkpoint_conditional \" + GENERATION_MODEL_DIR +\n",
    "                         \" --word_dict \" + DICT_FILE).split())\n",
    "\n",
    "idx2word_freq, word_d2_idx, parallel_encoder, parallel_decoder, word_norm_emb, model_condition, tokenizer_GPT2, device_topics, device_conditional = interactive_testing_functions.load_all_components(args)"
   ]
  },
  {
   "cell_type": "code",
   "execution_count": 44,
   "metadata": {},
   "outputs": [
    {
     "name": "stdout",
     "output_type": "stream",
     "text": [
      "0, book, books, novels, author, paperback, \n",
      "1, Essays, Perspectives, Perspective, Discourse, Context, \n",
      "2, University, faculty, undergraduate, university, doctoral, \n",
      "3, Reid, Sen., McConnell, Biden, O'Donnell, \n",
      "4, humanity, life, spirituality, societal, society, \n",
      "5, 2011, 2010, 2009, 2012, 2008, \n",
      "6, know, sure, want, really, think, \n",
      "7, insistence, disdain, dismissive, patently, disingenuous, \n",
      "8, election, elections, Democratic, Republican, presidential, \n",
      "9, U.S., States, United, US, America, \n",
      "\n"
     ]
    }
   ],
   "source": [
    "prompt = \"Barack Obama writes a new book\" #Modify the input prompt here\n",
    "#prompt = \"I like to go to school because \"  \n",
    "top_value, top_index, feature = interactive_testing_functions.show_future_topics(prompt, parallel_encoder, parallel_decoder, word_norm_emb, args.n_basis, args.top_k_nn, args.bptt, idx2word_freq, tokenizer_GPT2, device_topics)\n",
    "\n"
   ]
  },
  {
   "cell_type": "code",
   "execution_count": 52,
   "metadata": {},
   "outputs": [
    {
     "name": "stdout",
     "output_type": "stream",
     "text": [
      "\u001b[34mPrompt:  Barack Obama writes a new book\n",
      "\u001b[0m\n",
      "conditional 0:  on Obama  that follows the course he conducted as co-p Pastor of the Temple. This book  presents how today's church is \u001b[31mbetter\u001b[0m than it is before,  but continues to address his current challenges and is on the verge of  reaching out\n",
      "word: {'better': 1}\n",
      "\n",
      "conditional 1:   Obama and a \u001b[31mlife\u001b[0m of a man  (the title means  \u001b[31mtomorrow\u001b[0m and today ) which is about the impact the Obama Administration made on the future of American \u001b[31msociety\u001b[0m;     that his book would \u001b[31mbetter\u001b[0m reflect American culture, and how people\n",
      "4 topic: {'life': 1, 'society': 1}\n",
      "word: {'tomorrow': 1}\n",
      "word: {'better': 1}\n",
      "\n",
      "conditional 2:  that will  explain the importance to the students of humanism and humanistic study and understanding. â  What you can really do with everyday \u001b[31mlife\u001b[0m is to improve it \u001b[31mtomorrow\u001b[0m. In 2007, he was invited to lecture on \u001b[31muniversity\u001b[0m\n",
      "2 topic: {'university': 1}\n",
      "4 topic: {'life': 1}\n",
      "word: {'tomorrow': 1}\n",
      "\n",
      "\n",
      "\u001b[34mPrompt:  Barack Obama writes a new book\n",
      "\u001b[0m\n",
      "original 0: . On July 20, 2013, at the  White House, Obama announces that he intends to support Barack Obama's 2015 inauguration, on the grounds that his administration's actions caused a backlash by Americans. On October 5, 2013, President Obama signed into\n",
      "\n",
      "original 1:  as President Obama launches his new presidential campaign. January 21, 2016      January 25, 2016   January 25, 2016   January 25, 2016    January 26, 2016    April 25, 2016  \n",
      "\n",
      "original 2:  called ',  which he claims involves the development of new technologies and uses techniques. He also advocates for a faster and costlier digital download service. He recently appeared on Comedy Central's The Colbert Report; where he used his new technology to talk about social\n",
      "\n"
     ]
    }
   ],
   "source": [
    "selected_conditions = [2,4,'tomorrow','better'] #Modify this to specify your condition\n",
    "#selected_conditions = [2,4,7,'happy'] #This condition means you want to see the topics with index 2,4, and 7 and the word 'happy' in the generated text \n",
    "gen_sent_len = args.gen_sent_len \n",
    "#gen_sent_len = 100 #Uncomment and change this if you want to change the length of the generated sentence\n",
    "num_sent_gen = args.num_sent_gen\n",
    "#num_sent_gen = 1 #Uncomment and change this if you want to generate more sentences at the same time\n",
    "interactive_testing_functions.conditional_generation(selected_conditions, gen_sent_len, num_sent_gen, word_d2_idx, idx2word_freq, model_condition, word_norm_emb, top_index, top_value, feature, args.bptt_conditional, tokenizer_GPT2, device_conditional)\n"
   ]
  },
  {
   "cell_type": "code",
   "execution_count": null,
   "metadata": {},
   "outputs": [],
   "source": []
  },
  {
   "cell_type": "code",
   "execution_count": null,
   "metadata": {},
   "outputs": [],
   "source": []
  }
 ],
 "metadata": {
  "anaconda-cloud": {},
  "kernelspec": {
   "display_name": "Python 3",
   "language": "python",
   "name": "python3"
  },
  "language_info": {
   "codemirror_mode": {
    "name": "ipython",
    "version": 3
   },
   "file_extension": ".py",
   "mimetype": "text/x-python",
   "name": "python",
   "nbconvert_exporter": "python",
   "pygments_lexer": "ipython3",
   "version": "3.7.5"
  }
 },
 "nbformat": 4,
 "nbformat_minor": 2
}
